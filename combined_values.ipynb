{
 "cells": [
  {
   "cell_type": "code",
   "execution_count": 9,
   "id": "70e25b63-ea8f-4671-80c5-8b0a10e0904d",
   "metadata": {},
   "outputs": [
    {
     "name": "stdout",
     "output_type": "stream",
     "text": [
      "Merged data has been saved\n"
     ]
    }
   ],
   "source": [
    "import pandas as pd\n",
    "\n",
    "#Load the data\n",
    "home_values = pd.read_csv('home_values.csv')\n",
    "rental_values = pd.read_csv('rental_values.csv')\n",
    "\n",
    "#Rename the 'Value' column to differentiate between home and rental values\n",
    "home_values.rename(columns={'Value': 'Home Value'}, inplace=True)\n",
    "rental_values.rename(columns={'Value': 'Rental Value'}, inplace=True)\n",
    "\n",
    "#Merge the dataframes on 'ID' and 'Date of Assessment'\n",
    "merged_df = pd.merge(home_values, rental_values, on=['RegionID', 'Date'], how='outer')\n",
    "\n",
    "# Save the merged dataframe to an Excel file using openpyxl\n",
    "merged_df.to_excel('merged_values.xlsx', index=False, engine='openpyxl')\n",
    "\n",
    "print(\"Merged data has been saved\")"
   ]
  },
  {
   "cell_type": "code",
   "execution_count": 16,
   "id": "f7d4ab0f-5543-4a5d-82d8-c24f11e490ae",
   "metadata": {},
   "outputs": [
    {
     "name": "stdout",
     "output_type": "stream",
     "text": [
      "   RegionID       Date   Home Value  Rental Value\n",
      "0    394297  1/31/2015  146145.0907           NaN\n",
      "1    394297  1/31/2016  146790.4149           NaN\n",
      "2    394297  1/31/2017  151610.7800           NaN\n",
      "3    394297  1/31/2018  156939.4629           NaN\n",
      "4    394297  1/31/2019  161196.7623           NaN\n"
     ]
    }
   ],
   "source": [
    "print(merged_df.head())"
   ]
  }
 ],
 "metadata": {
  "kernelspec": {
   "display_name": "Python 3 (ipykernel)",
   "language": "python",
   "name": "python3"
  },
  "language_info": {
   "codemirror_mode": {
    "name": "ipython",
    "version": 3
   },
   "file_extension": ".py",
   "mimetype": "text/x-python",
   "name": "python",
   "nbconvert_exporter": "python",
   "pygments_lexer": "ipython3",
   "version": "3.12.4"
  }
 },
 "nbformat": 4,
 "nbformat_minor": 5
}
